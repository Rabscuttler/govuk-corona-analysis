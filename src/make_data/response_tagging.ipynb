{
 "cells": [
  {
   "cell_type": "code",
   "execution_count": null,
   "metadata": {},
   "outputs": [],
   "source": [
    "import pandas as pd\n",
    "from openpyxl.workbook import Workbook\n",
    "import re\n",
    "\n",
    "data_uiszendesk = pd.read_excel(io = '../../data/GAUISZ_Draft_Report_20200417to20200419.xlsx',  \n",
    "                                col_index = None)\n",
    "data_uiszendesk"
   ]
  },
  {
   "cell_type": "code",
   "execution_count": null,
   "metadata": {},
   "outputs": [],
   "source": [
    "# remove everything 'referrer'-related\n",
    "data_uiszendesk['Q3_or_Description_prepped'] = data_uiszendesk['Q3_or_Description'].str.split('\\[Referrer\\]|referrer\\:').str[0]\n",
    "# remove everything 'user_agent'-related\n",
    "data_uiszendesk['Q3_or_Description_prepped'] = data_uiszendesk['Q3_or_Description_prepped'].str.split('\\[User agent\\]|user_agent\\:').str[0]\n",
    "# remove everything 'javascript_enable'-related\n",
    "data_uiszendesk['Q3_or_Description_prepped'] = data_uiszendesk['Q3_or_Description_prepped'].str.split('\\[JavaScript Enabled\\]|javascript_enabled\\:').str[0]"
   ]
  },
  {
   "cell_type": "code",
   "execution_count": null,
   "metadata": {},
   "outputs": [],
   "source": [
    "# remove everything and including '[Details]'\n",
    "data_uiszendesk['Q3_or_Description_prepped'] = data_uiszendesk['Q3_or_Description_prepped'].str.split('\\[Details\\]').str[-1]"
   ]
  },
  {
   "cell_type": "code",
   "execution_count": null,
   "metadata": {},
   "outputs": [],
   "source": [
    "data_uiszendesk.to_excel(\"../../data/test.xlsx\")"
   ]
  }
 ],
 "metadata": {
  "kernelspec": {
   "display_name": "",
   "language": "python",
   "name": ""
  },
  "language_info": {
   "codemirror_mode": {
    "name": "ipython",
    "version": 3
   },
   "file_extension": ".py",
   "mimetype": "text/x-python",
   "name": "python",
   "nbconvert_exporter": "python",
   "pygments_lexer": "ipython3",
   "version": "3.7.7"
  }
 },
 "nbformat": 4,
 "nbformat_minor": 4
}
