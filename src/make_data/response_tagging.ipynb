{
 "cells": [
  {
   "cell_type": "code",
   "execution_count": 4,
   "metadata": {},
   "outputs": [],
   "source": [
    "import pandas as pd\n",
    "from openpyxl.workbook import Workbook\n",
    "import re\n",
    "\n",
    "data_uiszendesk = pd.read_excel(io = '../../data/GAUISZ_Draft_Report_20200414to20200415.xlsx', \n",
    "                                sheet_name = 'results-20200416-110042', \n",
    "                                col_index = None)\n",
    "\n",
    "# remove new lines\n",
    "#data_uiszendesk['Q3_or_Description']replace('\\n',' ', regex=True)\n",
    "# remove everything 'referrer'-related\n",
    "data_uiszendesk['Q3_or_Description'] = data_uiszendesk['Q3_or_Description'].str.split('\\[Referrer\\]|referrer\\:').str[0]\n",
    "# remove everything 'user_agent'-related\n",
    "data_uiszendesk['Q3_or_Description'] = data_uiszendesk['Q3_or_Description'].str.split('\\[User agent\\]|user_agent\\:').str[0]\n",
    "# remove everything 'javascript_enable'-related\n",
    "data_uiszendesk['Q3_or_Description'] = data_uiszendesk['Q3_or_Description'].str.split('\\[JavaScript Enabled\\]|javascript_enabled\\:').str[0]\n",
    "\n",
    "data_uiszendesk.to_excel(\"../../data/test.xlsx\")\n"
   ]
  }
 ],
 "metadata": {
  "kernelspec": {
   "display_name": "env",
   "language": "python",
   "name": "env"
  },
  "language_info": {
   "codemirror_mode": {
    "name": "ipython",
    "version": 3
   },
   "file_extension": ".py",
   "mimetype": "text/x-python",
   "name": "python",
   "nbconvert_exporter": "python",
   "pygments_lexer": "ipython3",
   "version": "3.7.7"
  }
 },
 "nbformat": 4,
 "nbformat_minor": 4
}
